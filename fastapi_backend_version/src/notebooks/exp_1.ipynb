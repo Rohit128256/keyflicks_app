{
 "cells": [
  {
   "cell_type": "code",
   "execution_count": null,
   "id": "228a5f94",
   "metadata": {},
   "outputs": [],
   "source": [
    "# signature plalist endpoint \n",
    "def md5hex(s: str) -> str:\n",
    "    md5_bin = hashlib.md5(s).digest()\n",
    "    return base64.urlsafe_b64encode(md5_bin).rstrip(b\"=\").decode(\"ascii\")\n",
    "\n",
    "def sign_uri(path_uri: str, expires_ts: int) -> str:\n",
    "    # signature computed from: <st> + <uri> + <SECRET>\n",
    "    raw = f\"{expires_ts}{path_uri}{URI_SIGNATURE_SECRET}\".encode(\"utf-8\")\n",
    "    return md5hex(raw)\n",
    "\n",
    "\n",
    "\n",
    "@router.get(\"/playlist/{video_id}/{resolution_path}\")\n",
    "def signed_segments(video_id: str, resolution_path: str):\n",
    "    # fetch original master playlist from MinIO\n",
    "    try:\n",
    "        s3_key = f\"videos/{video_id}/{resolution_path}/playlist.m3u8\"\n",
    "        response = s3.get_object(Bucket=STREAMING_BUCKET, Key=s3_key)\n",
    "        playlist_content = response['Body'].read().decode('utf-8')\n",
    "    except Exception as e:\n",
    "        raise HTTPException(404, f\"Failed to fetch master playlist: {str(e)}\")\n",
    "\n",
    "    original = playlist_content.splitlines()\n",
    "    expires = int(time.time()) + TTL\n",
    "\n",
    "    def make_modified_line(line: str) -> str:\n",
    "        # if line is a comment or empty, return unchanged\n",
    "        if line.strip() == \"\" or line.startswith(\"#\"):\n",
    "            return line\n",
    "        \n",
    "        # lines are like eg: \"seg_001.ts\"\n",
    "        \n",
    "        \n",
    "        public_path = f\"/videos/{video_id}/{resolution_path}/{line.lstrip('/').rstrip('/')}\"\n",
    "\n",
    "        sig = sign_uri(public_path, expires)\n",
    "        return f\"{public_path}?st={expires}&sig={sig}\"\n",
    "\n",
    "    rewritten_lines = [make_modified_line(line) for line in original]\n",
    "    rewritten_playlist = \"\\n\".join(rewritten_lines) + \"\\n\"\n",
    "    return Response(content=rewritten_playlist, media_type=\"application/vnd.apple.mpegurl\")"
   ]
  },
  {
   "cell_type": "code",
   "execution_count": null,
   "id": "4bfac6c5",
   "metadata": {},
   "outputs": [],
   "source": [
    "location ~ ^/videos/(?<video_dir>[^/]+/[^/]+)/(.*)$ {\n",
    "            # --- CORS Configuration for Video Player ---\n",
    "            # Handles browser \"preflight\" permission checks.\n",
    "            if ($request_method = 'OPTIONS') {\n",
    "                add_header 'Access-Control-Allow-Origin' 'http://localhost' always;\n",
    "                add_header 'Access-Control-Allow-Methods' 'GET, OPTIONS' always;\n",
    "                add_header 'Access-Control-Allow-Headers' 'Range, Content-Type' always;\n",
    "                add_header 'Access-Control-Max-Age' 1728000;\n",
    "                return 204;\n",
    "            }\n",
    "            # Adds the permission header to the actual video file responses.\n",
    "            add_header 'Access-Control-Allow-Origin' 'http://localhost' always;\n",
    "            # --- End CORS Configuration ---\n",
    "\n",
    "            # secure_link reads signature from query arg 'sig'\n",
    "            secure_link $arg_sig,$arg_st;\n",
    "            # compute expected md5 as md5(\"<st><uri><secret>\")\n",
    "            secure_link_md5 \"$secure_link_expires/videos/$video_dir/$secure_link_secret\";\n",
    "\n",
    "            # Auth and error handling\n",
    "            if ($secure_link = \"\") {\n",
    "                return 403;\n",
    "            }\n",
    "            if ($secure_link = \"0\") {\n",
    "                return 410;\n",
    "            }\n",
    "\n",
    "            # caching \n",
    "            proxy_cache hls_cache;\n",
    "            proxy_cache_key \"$scheme$host$uri\";\n",
    "            proxy_cache_valid 200 206 10m;\n",
    "            proxy_cache_lock on;\n",
    "            proxy_cache_use_stale error timeout updating http_500 http_502 http_503 http_504;\n",
    "            \n",
    "            \n",
    "            # Streaming optimizations\n",
    "            proxy_set_header Connection '';\n",
    "            proxy_buffering off;\n",
    "            proxy_read_timeout 3600s;\n",
    "            \n",
    "            # Proxy to MinIO\n",
    "            proxy_pass http://127.0.0.1:9000/streaming/videos/$video_dir/$2;\n",
    "\n",
    "            add_header X-Cache-Status $upstream_cache_status;\n",
    "            proxy_set_header Host $host;\n",
    "        }"
   ]
  },
  {
   "cell_type": "code",
   "execution_count": null,
   "id": "2a7b15ee",
   "metadata": {},
   "outputs": [],
   "source": [
    "import redis.asyncio as redis\n",
    "\n",
    "@router.get(\"/playlist/{video_id}/{resolution_path}\")\n",
    "async def signed_segments(video_id: str, resolution_path: str, request: Request):\n",
    "\n",
    "    s3_client = request.app.state.s3_client\n",
    "\n",
    "    # fetch original master playlist from MinIO\n",
    "    try:\n",
    "        s3_key = f\"videos/{video_id}/{resolution_path}/playlist.m3u8\"\n",
    "        response = await s3_client.get_object(Bucket=STREAMING_BUCKET, Key=s3_key)\n",
    "        playlist_bytes = await response['Body'].read()\n",
    "        playlist_content = playlist_bytes.decode('utf-8')\n",
    "    except Exception as e:\n",
    "        raise HTTPException(404, f\"Failed to fetch master playlist: {str(e)}\")\n",
    "\n",
    "    # original = playlist_content.splitlines()\n",
    "    expires = int(time.time()) + TTL\n",
    "    # This is our helper function that re.sub will call for each segment line\n",
    "    def replacer(match):\n",
    "        # The matched line (e.g., \"seg_001.ts\") is the first captured group\n",
    "        segment_file = match.group(1)\n",
    "        \n",
    "        public_path = f\"/videos/{video_id}/{resolution_path}/{segment_file}\"\n",
    "        sig = sign_uri(public_path, expires)\n",
    "        \n",
    "        return f\"{public_path}?st={expires}&sig={sig}\"\n",
    "\n",
    "    # This regex finds any line that does NOT start with '#' or whitespace,\n",
    "    # and captures the entire line. re.MULTILINE makes '^' match the start of each line.\n",
    "    pattern = re.compile(r\"^([^#\\s].*)$\", re.MULTILINE)\n",
    "    \n",
    "    # Use re.sub to perform the replacement in a single, fast operation\n",
    "    rewritten_playlist = pattern.sub(replacer, playlist_content)\n",
    "    \n",
    "    return Response(content=rewritten_playlist, media_type=\"application/vnd.apple.mpegurl\")\n"
   ]
  },
  {
   "cell_type": "code",
   "execution_count": 2,
   "id": "06bd2750",
   "metadata": {},
   "outputs": [
    {
     "name": "stdout",
     "output_type": "stream",
     "text": [
      "12\n"
     ]
    }
   ],
   "source": [
    "import os\n",
    "print(os.cpu_count())"
   ]
  },
  {
   "cell_type": "code",
   "execution_count": 1,
   "id": "ac09de59",
   "metadata": {},
   "outputs": [
    {
     "data": {
      "text/plain": [
       "'CPython'"
      ]
     },
     "execution_count": 1,
     "metadata": {},
     "output_type": "execute_result"
    }
   ],
   "source": [
    "import platform\n",
    "\n",
    "platform.python_implementation()"
   ]
  }
 ],
 "metadata": {
  "kernelspec": {
   "display_name": "base",
   "language": "python",
   "name": "python3"
  },
  "language_info": {
   "codemirror_mode": {
    "name": "ipython",
    "version": 3
   },
   "file_extension": ".py",
   "mimetype": "text/x-python",
   "name": "python",
   "nbconvert_exporter": "python",
   "pygments_lexer": "ipython3",
   "version": "3.12.4"
  }
 },
 "nbformat": 4,
 "nbformat_minor": 5
}
